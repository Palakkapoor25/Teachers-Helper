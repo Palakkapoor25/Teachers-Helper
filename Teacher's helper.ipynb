{
 "cells": [
  {
   "cell_type": "code",
   "execution_count": 15,
   "id": "5edfd08d",
   "metadata": {},
   "outputs": [],
   "source": [
    "percentag={}\n",
    "grade={\"A+\":[],\"A\":[]}\n",
    "def percentage():\n",
    "    cls=input(\"Enter class to view percentage : \")\n",
    "    a=globals()[cls]\n",
    "    x=1\n",
    "    for i in a.values() :\n",
    "        sum=0\n",
    "        b=i\n",
    "        for j in b:\n",
    "            sum=sum+j\n",
    "        per=(float(sum)/len(b))\n",
    "        percentag[x]=per\n",
    "        if per>91:\n",
    "            grade[\"A+\"].append((x,per))\n",
    "        elif 92 >= per > 81:\n",
    "            grade[\"A\"].append((x,per))\n",
    "        elif 85 >= per > 72 :\n",
    "            grade[\"B+\"].append(x,per)\n",
    "        elif 78 >= per > 62 :\n",
    "            grade[\"B\"].append(x,per)\n",
    "        elif 70>= per > 53 :\n",
    "            grade[\"C+\"].append(x,per)\n",
    "        elif 62 >= per > 43 :\n",
    "            grade[\"C\"].append(x,per)\n",
    "        elif 55 >= per >= 33:\n",
    "            grade[\"D\"].append(x,per)\n",
    "        else:\n",
    "            grade[\"Fail\"].append(x,per)\n",
    "        x=x+1\n",
    "    print(\"-------------Percenteage of students are-----------------------\")\n",
    "    print(\"\")\n",
    "    print(percentag)\n",
    "    print(\"\")\n",
    "    print(\"-------------Grade wise distribution are-----------------------\")\n",
    "    print(\"\")\n",
    "    print(grade)\n",
    "    print(\"\")"
   ]
  },
  {
   "cell_type": "code",
   "execution_count": 2,
   "id": "27c5247b",
   "metadata": {},
   "outputs": [],
   "source": [
    "def add_student():\n",
    "    students=int(input(\"Enter number of students to be added : \"))\n",
    "    cls_std=input(\"Enter class of the students : \")\n",
    "    subjects=int(input(\"Enter number of subjects : \"))\n",
    "    for i in range(students):\n",
    "        marks=[]\n",
    "        new_roll=int(input(\"Enter roll no of new student : \"))\n",
    "        for j in range(subjects):\n",
    "            mark=int(input(\"Enter marks of subject \"+str(j+1)+ \" of roll number \"+str(new_roll)+\" : \"))\n",
    "            marks.append(mark)\n",
    "        globals()[cls_std][new_roll]=marks"
   ]
  },
  {
   "cell_type": "code",
   "execution_count": 3,
   "id": "a61577f3",
   "metadata": {},
   "outputs": [],
   "source": [
    "def view_marks():\n",
    "    print(\"Press '1' to view marks of whole class : \")\n",
    "    print(\"Press '2' to view marks of a particular student : \")\n",
    "    choince=int(input(\"\"))\n",
    "    claas=input(\"Enter the class to view marks : \")\n",
    "    if choince==1:\n",
    "        print(globals()[claas])\n",
    "    else:\n",
    "        roool=int(input(\"Enter roll number of the student : \"))\n",
    "        print(globals()[claas][roool])"
   ]
  },
  {
   "cell_type": "code",
   "execution_count": 4,
   "id": "492309f6",
   "metadata": {},
   "outputs": [],
   "source": [
    "def rem_student():\n",
    "    clas=input(\"Enter class of the student to be removed : \")\n",
    "    roll=int(input(\"Enter roll number of the student : \"))\n",
    "    del globals()[clas][roll]\n",
    "    print(globals()[clas])"
   ]
  },
  {
   "cell_type": "code",
   "execution_count": 5,
   "id": "1e325e36",
   "metadata": {},
   "outputs": [],
   "source": [
    "def update_marks():\n",
    "    std_cls=input(\"Enter class of student to update data : \")\n",
    "    std_roll=int(input(\"Enter roll no of student : \"))\n",
    "    std_sub=int(input(\"Enter subject number of which data is to be updated : \"))\n",
    "    std_marks=int(input(\"Enter updated marks : \"))\n",
    "    globals()[std_cls][std_roll].pop(std_sub-1)\n",
    "    globals()[std_cls][std_roll].insert(std_sub-1,std_marks)\n",
    "    print(globals()[std_cls][std_roll])"
   ]
  },
  {
   "cell_type": "code",
   "execution_count": 6,
   "id": "c8c4ee38",
   "metadata": {},
   "outputs": [],
   "source": [
    "def new_class():\n",
    "    cls=input(\"Enter class of the students : \")\n",
    "    no_of_students=input(\"Enter number of students to upload data : \")\n",
    "    no_of_students=int(no_of_students)\n",
    "    no_of_subjects=int(input(\"Enter number of subjects : \"))\n",
    "    globals()[cls]={}\n",
    "    for i in range(no_of_students):\n",
    "        marks=[]\n",
    "        for j in range(no_of_subjects):\n",
    "            score=int(input(\"Enter marks in subject \"+str(j+1) +\" of roll no \"+str(i+1)+\" \"))\n",
    "            marks.append(score)\n",
    "        globals()[cls][i+1]=marks\n",
    "    print(globals()[cls])"
   ]
  },
  {
   "cell_type": "code",
   "execution_count": 16,
   "id": "7fdbdbc5",
   "metadata": {},
   "outputs": [
    {
     "name": "stdout",
     "output_type": "stream",
     "text": [
      "Press '1' to add marks of a new class\n",
      "Press '2' to update marks of a student which already exists \n",
      "Press '3' to add students \n",
      "Press '4' to remove a student \n",
      "Press '5' to view marks of a class\n",
      "Press '6' to view students percentage and grade-wise distribution of the class\n",
      "7\n",
      "Please enter a valid input....\n",
      "Press 'y' if you want to continue : n\n",
      "Thanks for visiting....\n"
     ]
    }
   ],
   "source": [
    "choice='y'\n",
    "while choice=='y':\n",
    "    print(\"Press '1' to add marks of a new class\")\n",
    "    print(\"Press '2' to update marks of a student which already exists \")\n",
    "    print(\"Press '3' to add students \")\n",
    "    print(\"Press '4' to remove a student \")\n",
    "    print(\"Press '5' to view marks of a class\")\n",
    "    print(\"Press '6' to view students percentage and grade-wise distribution of the class\")\n",
    "    ch=int(input(\"\"))\n",
    "    if ch==1:\n",
    "        new_class()\n",
    "    elif ch==2:\n",
    "        update_marks()\n",
    "    elif ch==3:\n",
    "        add_student()\n",
    "    elif ch==4:\n",
    "        rem_student()\n",
    "    elif ch==5:\n",
    "        view_marks()\n",
    "    elif ch==6:\n",
    "        percentage()\n",
    "    else:\n",
    "        print(\"Please enter a valid input....\")\n",
    "    choice=input(\"Press 'y' if you want to continue : \")\n",
    "print(\"Thanks for visiting....\")"
   ]
  },
  {
   "cell_type": "code",
   "execution_count": null,
   "id": "88313659",
   "metadata": {},
   "outputs": [],
   "source": []
  }
 ],
 "metadata": {
  "kernelspec": {
   "display_name": "Python 3 (ipykernel)",
   "language": "python",
   "name": "python3"
  },
  "language_info": {
   "codemirror_mode": {
    "name": "ipython",
    "version": 3
   },
   "file_extension": ".py",
   "mimetype": "text/x-python",
   "name": "python",
   "nbconvert_exporter": "python",
   "pygments_lexer": "ipython3",
   "version": "3.11.5"
  }
 },
 "nbformat": 4,
 "nbformat_minor": 5
}
